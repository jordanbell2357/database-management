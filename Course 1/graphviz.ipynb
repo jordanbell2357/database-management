{
 "cells": [
  {
   "cell_type": "code",
   "execution_count": 1,
   "id": "fb80bccb-996f-4650-88c9-179a9b20d19e",
   "metadata": {},
   "outputs": [
    {
     "data": {
      "text/plain": [
       "'erd.gv.pdf'"
      ]
     },
     "execution_count": 1,
     "metadata": {},
     "output_type": "execute_result"
    }
   ],
   "source": [
    "from graphviz import Digraph\n",
    "\n",
    "dot = Digraph('ERD')\n",
    "\n",
    "dot.node('S', 'Student')\n",
    "dot.node('E', 'Enrollment')\n",
    "dot.node('C', 'Course')\n",
    "dot.node('O', 'Offering')\n",
    "dot.node('F', 'Faculty')\n",
    "dot.node('R', 'Registers')\n",
    "dot.node('A', 'Accepts')\n",
    "\n",
    "# Connect nodes and label edges with cardinality notation\n",
    "dot.edge('S', 'E', label='1:N')\n",
    "dot.edge('S', 'R', label='1:N')\n",
    "dot.edge('E', 'A', label='1:1')\n",
    "dot.edge('C', 'O', label='1:N')\n",
    "dot.edge('O', 'F', label='1:N')\n",
    "dot.edge('O', 'R', label='1:N')\n",
    "dot.edge('F', 'F', label='1:1', constraint='false')\n",
    "\n",
    "dot.render('erd.gv', view=True)"
   ]
  },
  {
   "cell_type": "code",
   "execution_count": 2,
   "id": "f262102b-4ab2-4d12-8b49-71c78c3cba81",
   "metadata": {},
   "outputs": [
    {
     "data": {
      "text/plain": [
       "'erd.gv.pdf'"
      ]
     },
     "execution_count": 2,
     "metadata": {},
     "output_type": "execute_result"
    }
   ],
   "source": [
    "from graphviz import Digraph\n",
    "\n",
    "dot = Digraph('ERD')\n",
    "\n",
    "# Define the nodes representing the entities and their attributes\n",
    "dot.node('S', 'Student\\n------\\nstudent_id: PK\\nname\\nage')\n",
    "dot.node('C', 'Course\\n------\\ncourse_id: PK\\ntitle')\n",
    "dot.node('E', 'Enrollment\\n------\\nenrollment_id: PK\\nsemester')\n",
    "\n",
    "# Connect nodes and label edges with cardinality notation\n",
    "dot.edge('S', 'E', label='1:N')\n",
    "dot.edge('C', 'E', label='1:N')\n",
    "\n",
    "dot.render('erd.gv', view=True)\n"
   ]
  },
  {
   "cell_type": "code",
   "execution_count": null,
   "id": "87d9be3e-9119-4244-bcef-21bf0f04e21d",
   "metadata": {},
   "outputs": [],
   "source": []
  }
 ],
 "metadata": {
  "kernelspec": {
   "display_name": "Python 3 (ipykernel)",
   "language": "python",
   "name": "python3"
  },
  "language_info": {
   "codemirror_mode": {
    "name": "ipython",
    "version": 3
   },
   "file_extension": ".py",
   "mimetype": "text/x-python",
   "name": "python",
   "nbconvert_exporter": "python",
   "pygments_lexer": "ipython3",
   "version": "3.9.16"
  }
 },
 "nbformat": 4,
 "nbformat_minor": 5
}
