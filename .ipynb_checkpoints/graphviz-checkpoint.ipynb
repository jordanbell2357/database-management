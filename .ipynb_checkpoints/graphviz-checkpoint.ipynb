{
 "cells": [
  {
   "cell_type": "code",
   "execution_count": 1,
   "id": "fb80bccb-996f-4650-88c9-179a9b20d19e",
   "metadata": {},
   "outputs": [
    {
     "ename": "ModuleNotFoundError",
     "evalue": "No module named 'graphviz'",
     "output_type": "error",
     "traceback": [
      "\u001b[1;31m---------------------------------------------------------------------------\u001b[0m",
      "\u001b[1;31mModuleNotFoundError\u001b[0m                       Traceback (most recent call last)",
      "Cell \u001b[1;32mIn[1], line 1\u001b[0m\n\u001b[1;32m----> 1\u001b[0m \u001b[38;5;28;01mfrom\u001b[39;00m \u001b[38;5;21;01mgraphviz\u001b[39;00m \u001b[38;5;28;01mimport\u001b[39;00m Digraph\n\u001b[0;32m      3\u001b[0m dot \u001b[38;5;241m=\u001b[39m Digraph(\u001b[38;5;124m'\u001b[39m\u001b[38;5;124mERD\u001b[39m\u001b[38;5;124m'\u001b[39m)\n\u001b[0;32m      5\u001b[0m dot\u001b[38;5;241m.\u001b[39mnode(\u001b[38;5;124m'\u001b[39m\u001b[38;5;124mS\u001b[39m\u001b[38;5;124m'\u001b[39m, \u001b[38;5;124m'\u001b[39m\u001b[38;5;124mStudent\u001b[39m\u001b[38;5;124m'\u001b[39m)\n",
      "\u001b[1;31mModuleNotFoundError\u001b[0m: No module named 'graphviz'"
     ]
    }
   ],
   "source": [
    "from graphviz import Digraph\n",
    "\n",
    "dot = Digraph('ERD')\n",
    "\n",
    "dot.node('S', 'Student')\n",
    "dot.node('E', 'Enrollment')\n",
    "dot.node('C', 'Course')\n",
    "dot.node('O', 'Offering')\n",
    "dot.node('F', 'Faculty')\n",
    "dot.node('R', 'Registers')\n",
    "dot.node('A', 'Accepts')\n",
    "\n",
    "# Connect nodes and label edges with cardinality notation\n",
    "dot.edge('S', 'E', label='1:N')\n",
    "dot.edge('S', 'R', label='1:N')\n",
    "dot.edge('E', 'A', label='1:1')\n",
    "dot.edge('C', 'O', label='1:N')\n",
    "dot.edge('O', 'F', label='1:N')\n",
    "dot.edge('O', 'R', label='1:N')\n",
    "dot.edge('F', 'F', label='1:1', constraint='false')\n",
    "\n",
    "dot.render('erd.gv', view=True)"
   ]
  },
  {
   "cell_type": "code",
   "execution_count": 2,
   "id": "f262102b-4ab2-4d12-8b49-71c78c3cba81",
   "metadata": {},
   "outputs": [
    {
     "ename": "ModuleNotFoundError",
     "evalue": "No module named 'graphviz'",
     "output_type": "error",
     "traceback": [
      "\u001b[1;31m---------------------------------------------------------------------------\u001b[0m",
      "\u001b[1;31mModuleNotFoundError\u001b[0m                       Traceback (most recent call last)",
      "Cell \u001b[1;32mIn[2], line 1\u001b[0m\n\u001b[1;32m----> 1\u001b[0m \u001b[38;5;28;01mimport\u001b[39;00m \u001b[38;5;21;01mgraphviz\u001b[39;00m\n",
      "\u001b[1;31mModuleNotFoundError\u001b[0m: No module named 'graphviz'"
     ]
    }
   ],
   "source": [
    "import graphviz"
   ]
  },
  {
   "cell_type": "code",
   "execution_count": null,
   "id": "87d9be3e-9119-4244-bcef-21bf0f04e21d",
   "metadata": {},
   "outputs": [],
   "source": []
  }
 ],
 "metadata": {
  "kernelspec": {
   "display_name": "Python 3 (ipykernel)",
   "language": "python",
   "name": "python3"
  },
  "language_info": {
   "codemirror_mode": {
    "name": "ipython",
    "version": 3
   },
   "file_extension": ".py",
   "mimetype": "text/x-python",
   "name": "python",
   "nbconvert_exporter": "python",
   "pygments_lexer": "ipython3",
   "version": "3.9.16"
  }
 },
 "nbformat": 4,
 "nbformat_minor": 5
}
