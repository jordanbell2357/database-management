{
 "cells": [
  {
   "cell_type": "markdown",
   "id": "4844218f-5727-4a89-b3a0-46e257f7a485",
   "metadata": {},
   "source": [
    "# erdantic\n",
    "\n",
    "https://erdantic.drivendata.org/stable/examples/pydantic/"
   ]
  },
  {
   "cell_type": "code",
   "execution_count": 1,
   "id": "1859e521-1083-4e63-903a-9b54d8310217",
   "metadata": {},
   "outputs": [],
   "source": [
    "from pydantic import BaseModel\n",
    "from typing import List\n",
    "\n",
    "class Airport(BaseModel):\n",
    "    code: str\n",
    "    name: str\n",
    "    location: str\n",
    "\n",
    "class Airplane(BaseModel):\n",
    "    model: str\n",
    "    capacity: int\n",
    "\n",
    "class Flight(BaseModel):\n",
    "    flight_number: str\n",
    "    departure_airport: Airport\n",
    "    arrival_airport: Airport\n",
    "    airplane: Airplane\n",
    "    passengers: int"
   ]
  },
  {
   "cell_type": "code",
   "execution_count": 3,
   "id": "85c5e2e8-d3bc-4446-b7cc-10b85c440f66",
   "metadata": {},
   "outputs": [],
   "source": [
    "import erdantic as erd\n",
    "\n",
    "# Easy one-liner\n",
    "erd.draw(Flight, out=\"diagram.png\")"
   ]
  },
  {
   "cell_type": "code",
   "execution_count": 4,
   "id": "eaf577e9-73cb-4610-839d-7d967fd17523",
   "metadata": {},
   "outputs": [],
   "source": [
    "from typing import List, Optional\n",
    "from pydantic import BaseModel\n",
    "\n",
    "class Airport(BaseModel):\n",
    "    name: str\n",
    "    location: str\n",
    "\n",
    "class Airplane(BaseModel):\n",
    "    model: str\n",
    "    capacity: int\n",
    "\n",
    "class Flight(BaseModel):\n",
    "    flight_number: str\n",
    "    departure_airport: Airport\n",
    "    arrival_airport: Airport\n",
    "    airplane: Airplane\n",
    "    airplanes: List[Airplane]  # Many-to-one relationship with Airplane\n",
    "\n",
    "import erdantic as erd\n",
    "\n",
    "# Create a diagram from the Flight class\n",
    "diagram = erd.create(Flight)\n",
    "\n",
    "# Render the diagram to a file\n",
    "diagram.draw(\"flights.svg\")\n"
   ]
  },
  {
   "cell_type": "code",
   "execution_count": null,
   "id": "65e80334-3349-4981-9fbb-900bc6fcf3e8",
   "metadata": {},
   "outputs": [],
   "source": []
  }
 ],
 "metadata": {
  "kernelspec": {
   "display_name": "Python 3 (ipykernel)",
   "language": "python",
   "name": "python3"
  },
  "language_info": {
   "codemirror_mode": {
    "name": "ipython",
    "version": 3
   },
   "file_extension": ".py",
   "mimetype": "text/x-python",
   "name": "python",
   "nbconvert_exporter": "python",
   "pygments_lexer": "ipython3",
   "version": "3.9.16"
  }
 },
 "nbformat": 4,
 "nbformat_minor": 5
}
