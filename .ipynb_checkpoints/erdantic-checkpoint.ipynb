{
 "cells": [
  {
   "cell_type": "markdown",
   "id": "4844218f-5727-4a89-b3a0-46e257f7a485",
   "metadata": {},
   "source": [
    "# erdantic\n",
    "\n",
    "https://erdantic.drivendata.org/stable/examples/pydantic/"
   ]
  },
  {
   "cell_type": "code",
   "execution_count": 1,
   "id": "1859e521-1083-4e63-903a-9b54d8310217",
   "metadata": {},
   "outputs": [],
   "source": [
    "from pydantic import BaseModel\n",
    "from typing import List\n",
    "\n",
    "class Airport(BaseModel):\n",
    "    code: str\n",
    "    name: str\n",
    "    location: str\n",
    "\n",
    "class Airplane(BaseModel):\n",
    "    model: str\n",
    "    capacity: int\n",
    "\n",
    "class Flight(BaseModel):\n",
    "    flight_number: str\n",
    "    departure_airport: Airport\n",
    "    arrival_airport: Airport\n",
    "    airplane: Airplane\n",
    "    passengers: int"
   ]
  },
  {
   "cell_type": "code",
   "execution_count": 3,
   "id": "85c5e2e8-d3bc-4446-b7cc-10b85c440f66",
   "metadata": {},
   "outputs": [],
   "source": [
    "import erdantic as erd\n",
    "\n",
    "# Easy one-liner\n",
    "erd.draw(Flight, out=\"diagram.png\")"
   ]
  },
  {
   "cell_type": "code",
   "execution_count": 4,
   "id": "eaf577e9-73cb-4610-839d-7d967fd17523",
   "metadata": {},
   "outputs": [],
   "source": [
    "from typing import List, Optional\n",
    "from pydantic import BaseModel\n",
    "\n",
    "class Airport(BaseModel):\n",
    "    name: str\n",
    "    location: str\n",
    "\n",
    "class Airplane(BaseModel):\n",
    "    model: str\n",
    "    capacity: int\n",
    "\n",
    "class Flight(BaseModel):\n",
    "    flight_number: str\n",
    "    departure_airport: Airport\n",
    "    arrival_airport: Airport\n",
    "    airplane: Airplane\n",
    "    airplanes: List[Airplane]  # Many-to-one relationship with Airplane\n",
    "\n",
    "import erdantic as erd\n",
    "\n",
    "# Create a diagram from the Flight class\n",
    "diagram = erd.create(Flight)\n",
    "\n",
    "# Render the diagram to a file\n",
    "diagram.draw(\"flights.svg\")\n"
   ]
  },
  {
   "cell_type": "code",
   "execution_count": 4,
   "id": "15442e56-791a-489b-8904-dac39135dd41",
   "metadata": {},
   "outputs": [
    {
     "name": "stderr",
     "output_type": "stream",
     "text": [
      "C:\\Users\\jorda\\AppData\\Local\\Temp\\ipykernel_16840\\822127851.py:35: PydanticDeprecatedSince20: The `update_forward_refs` method is deprecated; use `model_rebuild` instead. Deprecated in Pydantic V2.0 to be removed in V3.0. See Pydantic V2 Migration Guide at https://errors.pydantic.dev/2.1.1/migration/\n",
      "  Faculty.update_forward_refs()\n"
     ]
    }
   ],
   "source": [
    "from typing import List\n",
    "from pydantic import BaseModel\n",
    "from datetime import datetime\n",
    "\n",
    "class Student(BaseModel):\n",
    "    StdNo: int\n",
    "    StdClass: str\n",
    "    StdMajor: str\n",
    "    StdGPA: float\n",
    "\n",
    "class Enrollment(BaseModel):\n",
    "    EnrGrade: float\n",
    "    student: Student\n",
    "\n",
    "class Course(BaseModel):\n",
    "    CourseNo: int\n",
    "    CrsDesc: str\n",
    "    CrsUnits: int\n",
    "\n",
    "class Offering(BaseModel):\n",
    "    OfferNo: int\n",
    "    OffLocation: str\n",
    "    OffTime: str\n",
    "    course: Course\n",
    "\n",
    "class Faculty(BaseModel):\n",
    "    FacNo: int\n",
    "    FacSalary: float\n",
    "    FacRank: str\n",
    "    FacHireDate: datetime\n",
    "    supervises: 'Faculty' = None\n",
    "    teaches: List[Offering]\n",
    "\n",
    "# Example of a self-relationship\n",
    "Faculty.update_forward_refs()\n",
    "\n",
    "class Registers(BaseModel):\n",
    "    student: Student\n",
    "    offering: Offering\n",
    "\n",
    "class Accepts(BaseModel):\n",
    "    enrollment: Enrollment\n",
    "    offering: Offering\n"
   ]
  },
  {
   "cell_type": "code",
   "execution_count": 5,
   "id": "7fdaf15e-3a09-4fc2-82f0-a04d9f404a3c",
   "metadata": {},
   "outputs": [],
   "source": [
    "import erdantic as erd\n",
    "\n",
    "# Create a diagram for the Faculty class\n",
    "diagram = erd.create(Faculty)\n",
    "\n",
    "# Plot the diagram (this will save it to a file)\n",
    "diagram.draw(\"faculty_erd.png\")"
   ]
  },
  {
   "cell_type": "code",
   "execution_count": null,
   "id": "f6667200-437a-4302-a784-ea8f5dad9418",
   "metadata": {},
   "outputs": [],
   "source": []
  }
 ],
 "metadata": {
  "kernelspec": {
   "display_name": "Python 3 (ipykernel)",
   "language": "python",
   "name": "python3"
  },
  "language_info": {
   "codemirror_mode": {
    "name": "ipython",
    "version": 3
   },
   "file_extension": ".py",
   "mimetype": "text/x-python",
   "name": "python",
   "nbconvert_exporter": "python",
   "pygments_lexer": "ipython3",
   "version": "3.9.16"
  }
 },
 "nbformat": 4,
 "nbformat_minor": 5
}
